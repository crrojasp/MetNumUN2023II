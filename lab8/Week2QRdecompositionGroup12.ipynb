{
  "nbformat": 4,
  "nbformat_minor": 0,
  "metadata": {
    "colab": {
      "provenance": [],
      "include_colab_link": true
    },
    "kernelspec": {
      "name": "python3",
      "display_name": "Python 3"
    }
  },
  "cells": [
    {
      "cell_type": "markdown",
      "metadata": {
        "id": "view-in-github",
        "colab_type": "text"
      },
      "source": [
        "<a href=\"https://colab.research.google.com/github/crrojasp/MetNumUN2023II/blob/main/lab8/Week2QRdecompositionGroup12.ipynb\" target=\"_parent\"><img src=\"https://colab.research.google.com/assets/colab-badge.svg\" alt=\"Open In Colab\"/></a>"
      ]
    },
    {
      "cell_type": "markdown",
      "source": [
        "Grupo 12"
      ],
      "metadata": {
        "id": "gG-7Dc7b7Ksj"
      }
    },
    {
      "cell_type": "code",
      "metadata": {
        "id": "OLUKMp6bzVEJ"
      },
      "source": [
        "import numpy as np\n",
        "\n",
        "from numpy.testing import assert_allclose"
      ],
      "execution_count": 1,
      "outputs": []
    },
    {
      "cell_type": "markdown",
      "metadata": {
        "id": "Uz3t7DtP0gLx"
      },
      "source": [
        "# Part I. Construct a Householder reflection of a vector."
      ]
    },
    {
      "cell_type": "markdown",
      "metadata": {
        "id": "K0JvLCTy0kOI"
      },
      "source": [
        "Given a vector $\\mathbf{x}$, and a plane with a normal vector $\\mathbf{u}$, the Householder transformation reflects $\\mathbf{x}$ about the plane.\n",
        "\n",
        "The matrix of the Householder transformation is\n",
        "\n",
        "$$\n",
        "\\mathbf{H} = \\mathbf{I} - 2 \\mathbf{u} \\mathbf{u}^T\n",
        "$$\n",
        "\n",
        "Given two equal-length vectors $\\mathbf{x}$ and $\\mathbf{y}$, a rotation which brings $\\mathbf{x}$ to $\\mathbf{y}$ is a Householder transform with\n",
        "\n",
        "$$\n",
        "\\mathbf{u} = \\frac{\\mathbf{x} - \\mathbf{y}}{\\left|\\mathbf{x} - \\mathbf{y}\\right|}\n",
        "$$"
      ]
    },
    {
      "cell_type": "markdown",
      "metadata": {
        "id": "0SvLbsbc0oqh"
      },
      "source": [
        "Write a function which rotates a given vector, $\\mathbf{x} = (x_1, \\dots, x_n)$ into $\\mathbf{y} = (\\left|\\mathbf{x}\\right|, 0, \\dots, 0)^T$ using a Householder transformation."
      ]
    },
    {
      "cell_type": "code",
      "metadata": {
        "id": "_xCVjiVB0jco",
        "colab": {
          "base_uri": "https://localhost:8080/"
        },
        "outputId": "cb47b4be-3236-4fa8-c9b4-20ec85f5887e"
      },
      "source": [
        "import numpy as np\n",
        "from typing import Union\n",
        "\n",
        "def householder(x: np.ndarray) -> Union[np.ndarray, int]:\n",
        "    alpha = x[0]\n",
        "    s = np.power(np.linalg.norm(x[1:]), 2)\n",
        "    v = x.copy()\n",
        "\n",
        "    if s == 0:\n",
        "        tau = 0\n",
        "    else:\n",
        "        t = np.sqrt(alpha**2 + s)\n",
        "        v[0] = alpha - t if alpha <= 0 else -s / (alpha + t)\n",
        "\n",
        "        tau = 2 * v[0]**2 / (s + v[0]**2)\n",
        "        v /= v[0]\n",
        "\n",
        "    return v, tau\n",
        "\n",
        "def qr_decomposition(A: np.ndarray) -> Union[np.ndarray, np.ndarray]:\n",
        "    m, n = A.shape\n",
        "    R = A.copy()\n",
        "    Q = np.identity(m)\n",
        "\n",
        "    for j in range(n):\n",
        "        v, tau = householder(R[j:, j])\n",
        "        H = np.identity(m)\n",
        "        H[j:, j:] -= tau * np.outer(v, v)  # Outer product!\n",
        "        R = H @ R\n",
        "        Q = H @ Q.T  # Transpose!\n",
        "\n",
        "    return Q.T, R\n",
        "\n",
        "m = 10\n",
        "n = 8\n",
        "\n",
        "A = np.random.rand(m, n)\n",
        "q, r = np.linalg.qr(A)\n",
        "Q, R = qr_decomposition(A)\n",
        "\n",
        "print(\"*****\")\n",
        "print(Q)\n",
        "print(q)\n",
        "print(\"-----\")\n",
        "print(R)\n",
        "print(r)\n"
      ],
      "execution_count": 2,
      "outputs": [
        {
          "output_type": "stream",
          "name": "stdout",
          "text": [
            "*****\n",
            "[[ 0.46157607 -0.40001133  0.32476988 -0.13415247  0.09687149  0.39362565\n",
            "   0.05637005 -0.04278076  0.30695885  0.48980543]\n",
            " [ 0.36946428  0.19915382 -0.05280016 -0.06344862 -0.57152957  0.24466648\n",
            "  -0.54149916 -0.07799246  0.18459549 -0.31166155]\n",
            " [ 0.05531419  0.00452446  0.4012061  -0.2919115  -0.14788599  0.23003242\n",
            "   0.58110847  0.1175569  -0.06502241 -0.56588112]\n",
            " [ 0.50185543 -0.02553468 -0.07981596 -0.18585878 -0.20336317 -0.55410397\n",
            "   0.24118807 -0.4613989  -0.27779365  0.09978627]\n",
            " [-0.10297898 -0.32214884  0.21607933 -0.35173375 -0.25938853 -0.50293757\n",
            "  -0.21787472  0.57884298  0.08519359  0.07206524]\n",
            " [-0.069271    0.47796931 -0.33808586 -0.43892709 -0.03374854 -0.04429837\n",
            "   0.28862837  0.05749809  0.56806924  0.2176499 ]\n",
            " [ 0.32614454  0.48749278  0.42481374 -0.06737048  0.57009436 -0.2149883\n",
            "  -0.26970704  0.10913123  0.01991503 -0.12124091]\n",
            " [ 0.09013399  0.36055466 -0.03752951 -0.1581277  -0.18233103  0.29604271\n",
            "   0.03254637  0.36434287 -0.63784139  0.41705018]\n",
            " [ 0.04331946  0.27495439  0.34322798  0.66530279 -0.37457784 -0.1900208\n",
            "   0.26673875  0.14544944  0.22626387  0.20536152]\n",
            " [ 0.51356697 -0.15547627 -0.51354338  0.26396401  0.18374139 -0.01932157\n",
            "   0.17892986  0.51107955  0.04369609 -0.2222848 ]]\n",
            "[[-4.61576071e-01  4.00011330e-01 -2.91457086e-02 -2.89623521e-01\n",
            "   4.11698641e-01  3.14364079e-01  2.33723819e-01 -3.31016253e-01]\n",
            " [-3.69464281e-01 -1.99153821e-01  5.65697867e-02 -6.54311006e-02\n",
            "  -7.20962237e-02  5.49974312e-01  3.80396807e-02  7.07081967e-01]\n",
            " [-2.03083182e-01 -3.20932198e-01 -4.23577655e-01 -1.49388220e-01\n",
            "  -1.82836840e-01  6.75066813e-02  3.46410835e-04 -2.28938448e-01]\n",
            " [-4.60491402e-01  1.14104676e-01 -1.19453597e-01 -1.17663596e-01\n",
            "   8.66518824e-02 -5.21490882e-01 -6.06747442e-01  2.57994736e-01]\n",
            " [-4.43733077e-01  1.66347300e-01  1.75494203e-01  8.62810531e-02\n",
            "  -5.40115224e-02 -3.82934311e-01  4.58413759e-01  7.16499946e-03]\n",
            " [-1.24121231e-01 -6.86488496e-01  3.33239258e-01 -2.32802763e-01\n",
            "   1.03953818e-01 -2.99900411e-01  3.10592048e-01 -4.06593620e-02]\n",
            " [-1.75144533e-01  1.48130134e-01  1.16541231e-02  7.02002999e-01\n",
            "  -2.63796094e-01 -6.99563673e-02  2.41954640e-01  9.60750042e-02]\n",
            " [-3.13175853e-01 -2.97038075e-01  3.33169387e-01  4.36396211e-01\n",
            "   1.17162617e-01  2.70181386e-01 -4.30568958e-01 -4.35584375e-01]\n",
            " [-8.95518310e-02 -2.73442489e-01 -7.31167602e-01  2.75673699e-01\n",
            "   2.82500177e-01 -4.31684356e-02  1.56412937e-01 -1.13341392e-02]\n",
            " [-2.19246869e-01  2.07004906e-02 -1.21131565e-01 -2.34068422e-01\n",
            "  -7.79437654e-01  7.65457947e-02 -2.78622307e-02 -2.65879855e-01]]\n",
            "-----\n",
            "[[ 2.09378037e+00  1.64116005e+00  1.29909246e+00  1.14443620e+00\n",
            "   1.73007540e+00  1.09210134e+00  1.86737765e+00  1.51875315e+00]\n",
            " [-2.31871336e-17  1.12735401e+00  3.74921413e-01  4.42410170e-01\n",
            "   4.92342593e-01  9.29546156e-01  1.00439273e+00  5.07899121e-01]\n",
            " [ 3.07203363e-17  6.53307980e-19  1.02856678e+00  3.72622991e-01\n",
            "   8.44532191e-01  1.40934935e-01  1.74089122e-01 -9.29814947e-02]\n",
            " [-6.95761896e-17  1.29273476e-16  6.13467091e-17  1.06747591e+00\n",
            "   1.76614321e-01 -1.67590554e-01  6.38036243e-01  4.73830969e-01]\n",
            " [-8.02594686e-17  9.67463992e-17  3.21319210e-17  3.51824828e-17\n",
            "   5.98595346e-01  8.19371534e-01  8.56431716e-02  7.83697894e-01]\n",
            " [ 1.23563141e-17 -2.90343876e-16 -4.77153717e-17  9.06598659e-17\n",
            "   7.34514279e-17  5.88121859e-01  9.13945297e-02 -5.18969026e-01]\n",
            " [-4.45804204e-17 -9.36689279e-17 -7.69887518e-17  5.29029339e-17\n",
            "  -6.97565944e-17 -1.34326438e-17  4.54467377e-01 -1.74228162e-01]\n",
            " [-2.31864770e-17  1.65240305e-16 -3.76882555e-17 -5.40825797e-17\n",
            "  -8.20709827e-17  3.34316827e-17  4.17582802e-17  5.43040094e-01]\n",
            " [ 1.06920704e-16 -8.10485502e-17 -4.45326883e-17 -1.10230731e-16\n",
            "   6.17573227e-17 -4.44463010e-17  6.30794799e-17 -1.36266102e-18]\n",
            " [ 1.75032593e-17 -3.31513003e-18  1.94461326e-17  4.65201699e-17\n",
            "  -4.59736104e-17 -8.64154735e-17 -7.44685639e-18 -9.07625856e-17]]\n",
            "[[-2.09378037 -1.64116005 -1.29909246 -1.1444362  -1.7300754  -1.09210134\n",
            "  -1.86737765 -1.51875315]\n",
            " [ 0.         -1.12735401 -0.37492141 -0.44241017 -0.49234259 -0.92954616\n",
            "  -1.00439273 -0.50789912]\n",
            " [ 0.          0.         -1.02856678 -0.37262299 -0.84453219 -0.14093494\n",
            "  -0.17408912  0.09298149]\n",
            " [ 0.          0.          0.          1.06747591  0.17661432 -0.16759055\n",
            "   0.63803624  0.47383097]\n",
            " [ 0.          0.          0.          0.         -0.59859535 -0.81937153\n",
            "  -0.08564317 -0.78369789]\n",
            " [ 0.          0.          0.          0.          0.          0.58812186\n",
            "   0.09139453 -0.51896903]\n",
            " [ 0.          0.          0.          0.          0.          0.\n",
            "   0.45446738 -0.17422816]\n",
            " [ 0.          0.          0.          0.          0.          0.\n",
            "   0.         -0.54304009]]\n"
          ]
        }
      ]
    },
    {
      "cell_type": "markdown",
      "metadata": {
        "id": "otdj2PA8bGwx"
      },
      "source": [
        "Test your function using tests below:"
      ]
    },
    {
      "cell_type": "code",
      "source": [
        "import numpy as np\n",
        "\n",
        "def householder(v):\n",
        "    sigma = np.sign(v[0]) * np.linalg.norm(v, ord=2)\n",
        "    v[0] += sigma\n",
        "    v /= np.linalg.norm(v, ord=2)\n",
        "    H = np.eye(len(v)) - 2 * np.outer(v, v)\n",
        "    return v, H\n",
        "\n",
        "# Test I.1\n",
        "v = np.array([1, 2, 3])\n",
        "v1, h = householder(v)\n",
        "\n",
        "np.testing.assert_allclose(np.dot(h, v1), v)\n",
        "np.testing.assert_allclose(np.dot(h, v), v1)"
      ],
      "metadata": {
        "id": "sqFdZWtu9kMA",
        "colab": {
          "base_uri": "https://localhost:8080/",
          "height": 367
        },
        "outputId": "9e3d8459-3d4b-4287-9733-bea316d79670"
      },
      "execution_count": 3,
      "outputs": [
        {
          "output_type": "error",
          "ename": "UFuncTypeError",
          "evalue": "ignored",
          "traceback": [
            "\u001b[0;31m---------------------------------------------------------------------------\u001b[0m",
            "\u001b[0;31mUFuncTypeError\u001b[0m                            Traceback (most recent call last)",
            "\u001b[0;32m<ipython-input-3-2d7db95661ce>\u001b[0m in \u001b[0;36m<cell line: 12>\u001b[0;34m()\u001b[0m\n\u001b[1;32m     10\u001b[0m \u001b[0;31m# Test I.1\u001b[0m\u001b[0;34m\u001b[0m\u001b[0;34m\u001b[0m\u001b[0m\n\u001b[1;32m     11\u001b[0m \u001b[0mv\u001b[0m \u001b[0;34m=\u001b[0m \u001b[0mnp\u001b[0m\u001b[0;34m.\u001b[0m\u001b[0marray\u001b[0m\u001b[0;34m(\u001b[0m\u001b[0;34m[\u001b[0m\u001b[0;36m1\u001b[0m\u001b[0;34m,\u001b[0m \u001b[0;36m2\u001b[0m\u001b[0;34m,\u001b[0m \u001b[0;36m3\u001b[0m\u001b[0;34m]\u001b[0m\u001b[0;34m)\u001b[0m\u001b[0;34m\u001b[0m\u001b[0;34m\u001b[0m\u001b[0m\n\u001b[0;32m---> 12\u001b[0;31m \u001b[0mv1\u001b[0m\u001b[0;34m,\u001b[0m \u001b[0mh\u001b[0m \u001b[0;34m=\u001b[0m \u001b[0mhouseholder\u001b[0m\u001b[0;34m(\u001b[0m\u001b[0mv\u001b[0m\u001b[0;34m)\u001b[0m\u001b[0;34m\u001b[0m\u001b[0;34m\u001b[0m\u001b[0m\n\u001b[0m\u001b[1;32m     13\u001b[0m \u001b[0;34m\u001b[0m\u001b[0m\n\u001b[1;32m     14\u001b[0m \u001b[0mnp\u001b[0m\u001b[0;34m.\u001b[0m\u001b[0mtesting\u001b[0m\u001b[0;34m.\u001b[0m\u001b[0massert_allclose\u001b[0m\u001b[0;34m(\u001b[0m\u001b[0mnp\u001b[0m\u001b[0;34m.\u001b[0m\u001b[0mdot\u001b[0m\u001b[0;34m(\u001b[0m\u001b[0mh\u001b[0m\u001b[0;34m,\u001b[0m \u001b[0mv1\u001b[0m\u001b[0;34m)\u001b[0m\u001b[0;34m,\u001b[0m \u001b[0mv\u001b[0m\u001b[0;34m)\u001b[0m\u001b[0;34m\u001b[0m\u001b[0;34m\u001b[0m\u001b[0m\n",
            "\u001b[0;32m<ipython-input-3-2d7db95661ce>\u001b[0m in \u001b[0;36mhouseholder\u001b[0;34m(v)\u001b[0m\n\u001b[1;32m      4\u001b[0m     \u001b[0msigma\u001b[0m \u001b[0;34m=\u001b[0m \u001b[0mnp\u001b[0m\u001b[0;34m.\u001b[0m\u001b[0msign\u001b[0m\u001b[0;34m(\u001b[0m\u001b[0mv\u001b[0m\u001b[0;34m[\u001b[0m\u001b[0;36m0\u001b[0m\u001b[0;34m]\u001b[0m\u001b[0;34m)\u001b[0m \u001b[0;34m*\u001b[0m \u001b[0mnp\u001b[0m\u001b[0;34m.\u001b[0m\u001b[0mlinalg\u001b[0m\u001b[0;34m.\u001b[0m\u001b[0mnorm\u001b[0m\u001b[0;34m(\u001b[0m\u001b[0mv\u001b[0m\u001b[0;34m,\u001b[0m \u001b[0mord\u001b[0m\u001b[0;34m=\u001b[0m\u001b[0;36m2\u001b[0m\u001b[0;34m)\u001b[0m\u001b[0;34m\u001b[0m\u001b[0;34m\u001b[0m\u001b[0m\n\u001b[1;32m      5\u001b[0m     \u001b[0mv\u001b[0m\u001b[0;34m[\u001b[0m\u001b[0;36m0\u001b[0m\u001b[0;34m]\u001b[0m \u001b[0;34m+=\u001b[0m \u001b[0msigma\u001b[0m\u001b[0;34m\u001b[0m\u001b[0;34m\u001b[0m\u001b[0m\n\u001b[0;32m----> 6\u001b[0;31m     \u001b[0mv\u001b[0m \u001b[0;34m/=\u001b[0m \u001b[0mnp\u001b[0m\u001b[0;34m.\u001b[0m\u001b[0mlinalg\u001b[0m\u001b[0;34m.\u001b[0m\u001b[0mnorm\u001b[0m\u001b[0;34m(\u001b[0m\u001b[0mv\u001b[0m\u001b[0;34m,\u001b[0m \u001b[0mord\u001b[0m\u001b[0;34m=\u001b[0m\u001b[0;36m2\u001b[0m\u001b[0;34m)\u001b[0m\u001b[0;34m\u001b[0m\u001b[0;34m\u001b[0m\u001b[0m\n\u001b[0m\u001b[1;32m      7\u001b[0m     \u001b[0mH\u001b[0m \u001b[0;34m=\u001b[0m \u001b[0mnp\u001b[0m\u001b[0;34m.\u001b[0m\u001b[0meye\u001b[0m\u001b[0;34m(\u001b[0m\u001b[0mlen\u001b[0m\u001b[0;34m(\u001b[0m\u001b[0mv\u001b[0m\u001b[0;34m)\u001b[0m\u001b[0;34m)\u001b[0m \u001b[0;34m-\u001b[0m \u001b[0;36m2\u001b[0m \u001b[0;34m*\u001b[0m \u001b[0mnp\u001b[0m\u001b[0;34m.\u001b[0m\u001b[0mouter\u001b[0m\u001b[0;34m(\u001b[0m\u001b[0mv\u001b[0m\u001b[0;34m,\u001b[0m \u001b[0mv\u001b[0m\u001b[0;34m)\u001b[0m\u001b[0;34m\u001b[0m\u001b[0;34m\u001b[0m\u001b[0m\n\u001b[1;32m      8\u001b[0m     \u001b[0;32mreturn\u001b[0m \u001b[0mv\u001b[0m\u001b[0;34m,\u001b[0m \u001b[0mH\u001b[0m\u001b[0;34m\u001b[0m\u001b[0;34m\u001b[0m\u001b[0m\n",
            "\u001b[0;31mUFuncTypeError\u001b[0m: Cannot cast ufunc 'divide' output from dtype('float64') to dtype('int64') with casting rule 'same_kind'"
          ]
        }
      ]
    },
    {
      "cell_type": "code",
      "metadata": {
        "id": "Y_iJuPlpbzLI"
      },
      "source": [
        "import numpy as np\n",
        "\n",
        "def householder(v):\n",
        "    n = len(v)\n",
        "    v_norm = np.linalg.norm(v)\n",
        "    if v_norm == 0:\n",
        "        raise ValueError('Cannot normalize zero vector')\n",
        "    v1 = np.zeros(n)\n",
        "    v1[0] = np.sign(v[0]) * v_norm\n",
        "    u = v - v1\n",
        "    h = np.eye(n) - 2 * np.outer(u, u) / np.dot(u, u)\n",
        "    return v1, h\n",
        "\n",
        "# Test I.2\n",
        "rndm = np.random.RandomState(1234)\n",
        "\n",
        "vec = rndm.uniform(size=7)\n",
        "v1, h = householder(vec)\n",
        "\n",
        "np.testing.assert_allclose(np.dot(h, v1), vec)\n"
      ],
      "execution_count": null,
      "outputs": []
    },
    {
      "cell_type": "markdown",
      "metadata": {
        "id": "wNDpJogKb-WW"
      },
      "source": [
        "# Part II. Compute the $\\mathrm{QR}$ decomposition of a matrix.\n",
        "\n",
        "Given a rectangular $m\\times n$ matrix $\\mathbf{A}$, construct a Householder reflector matrix $\\mathbf{H}_1$ which transforms the first column of $\\mathbf{A}$ (and call the result $\\mathbf{A}^{(1)}$)\n",
        "\n",
        "$$\n",
        "\\mathbf{H}_1 \\mathbf{A} =%\n",
        "\\begin{pmatrix}\n",
        "\\times & \\times & \\times & \\dots & \\times \\\\\n",
        "0      & \\times & \\times & \\dots & \\times \\\\\n",
        "0      & \\times & \\times & \\dots & \\times \\\\\n",
        "&& \\dots&& \\\\\n",
        "0      & \\times & \\times & \\dots & \\times \\\\\n",
        "\\end{pmatrix}%\n",
        "\\equiv \\mathbf{A}^{(1)}\\;.\n",
        "$$\n",
        "\n",
        "Now consider the lower-right submatrix of $\\mathbf{A}^{(1)}$, and construct a Householder reflector which annihilates the second column of $\\mathbf{A}$:\n",
        "\n",
        "$$\n",
        "\\mathbf{H}_2 \\mathbf{A}^{(1)} =%\n",
        "\\begin{pmatrix}\n",
        "\\times & \\times & \\times & \\dots & \\times \\\\\n",
        "0      & \\times & \\times & \\dots & \\times \\\\\n",
        "0      & 0      & \\times & \\dots & \\times \\\\\n",
        "&& \\dots&& \\\\\n",
        "0      & 0      & \\times & \\dots & \\times \\\\\n",
        "\\end{pmatrix}%\n",
        "\\equiv \\mathbf{A}^{(2)} \\;.\n",
        "$$\n",
        "\n",
        "Repeating the process $n-1$ times, we obtain\n",
        "\n",
        "$$\n",
        "\\mathbf{H}_{n-1} \\cdots \\mathbf{H}_2 \\mathbf{H}_1 \\mathbf{A} = \\mathbf{R} \\;,\n",
        "$$\n",
        "\n",
        "with $\\mathbf{R}$ an upper triangular matrix. Since each $\\mathbf{H}_k$ is orthogonal, so is their product. The inverse of an orthogonal matrix is orthogonal. Hence the process generates the $\\mathrm{QR}$ decomposition of $\\mathbf{A}$.\n",
        "\n",
        "$$\n",
        "\\mathbf{A} = (\\mathbf{H}_{n-1} \\cdots \\mathbf{H}_2 \\mathbf{H}_1)^{-1} \\mathbf{R} \\;,\n",
        "$$\n",
        "so\n",
        "$$\n",
        "\\mathbf{A} =  \\mathbf{Q} \\mathbf{R} \\;,\n",
        "$$\n",
        "with\n",
        "$$\n",
        "\\mathbf{Q} = (\\mathbf{H}_{n-1} \\cdots \\mathbf{H}_2 \\mathbf{H}_1)^{-1} =  \\mathbf{H}_1^{-1}  \\mathbf{H}_2^{-1}  \\cdots \\mathbf{H}_{n-1}^{-1} = \\mathbf{H}_1^T  \\mathbf{H}_2^T  \\cdots \\mathbf{H}_{n-1}^T\n",
        "$$\n",
        "Since $\\mathbf{H}_i$ is ortogonal\n",
        "$$\n",
        "\\mathbf{H}_i\\mathbf{H}_i^T = \\mathbf{I}\n",
        "$$\n",
        "then\n",
        "$$\n",
        "\\mathbf{H}^{-1} = \\mathbf{H}^T\n",
        "$$\n",
        "but also  $\\mathbf{H}_i$ is symetric\n",
        "$$\n",
        "\\mathbf{H}_i^T = \\mathbf{H}_i\n",
        "$$\n",
        "so\n",
        "$$\n",
        "\\mathbf{Q} = \\mathbf{H}_1^{-1}  \\mathbf{H}_2^{-1}  \\cdots \\mathbf{H}_{n-1}^{-1} = \\mathbf{H}_1^T  \\mathbf{H}_2^T  \\cdots \\mathbf{H}_{n-1}^T =  \\mathbf{H}_1 \\mathbf{H}_2  \\cdots \\mathbf{H}_{n-1}\n",
        "$$\n"
      ]
    },
    {
      "cell_type": "code",
      "metadata": {
        "id": "-asgo49bb42_"
      },
      "source": [
        "import numpy as np\n",
        "\n",
        "def qr_decomp(a):\n",
        "    m, n = a.shape\n",
        "    Q = np.eye(m)\n",
        "    R = a.copy()\n",
        "\n",
        "    for j in range(n):\n",
        "        x = R[j:, j]\n",
        "        e = np.zeros_like(x)\n",
        "        e[0] = np.sign(x[0])\n",
        "\n",
        "        v = np.linalg.norm(x) * e + x\n",
        "        v = v / np.linalg.norm(v)\n",
        "\n",
        "        R[j:, :] -= 2 * np.outer(v, np.dot(v, R[j:, :]))\n",
        "        Q[:, j:] -= 2 * np.outer(Q[:, j:], np.dot(Q[:, j:].T, v))\n",
        "\n",
        "    return Q, R"
      ],
      "execution_count": null,
      "outputs": []
    },
    {
      "cell_type": "code",
      "metadata": {
        "id": "9JNb9e0Ncv-B"
      },
      "source": [
        "# Might want to turn this on for prettier printing: zeros instead of `1e-16` etc\n",
        "\n",
        "np.set_printoptions(suppress=True)"
      ],
      "execution_count": null,
      "outputs": []
    },
    {
      "cell_type": "code",
      "source": [
        "# Test II.1 (20% of the total grade)\n",
        "rndm = np.random.RandomState(1234)\n",
        "a = rndm.uniform(size=(5, 3))\n",
        "q, r = qr_decomp(a)\n",
        "# test that Q is indeed orthogonal\n",
        "np.testing.assert_allclose(np.dot(q, q.T), np.eye(5), atol=1e-10)\n",
        "\n",
        "# test the decomposition itself\n",
        "np.testing.assert_allclose(np.dot(q, r), a)"
      ],
      "metadata": {
        "id": "L3ehrP0j_V39"
      },
      "execution_count": null,
      "outputs": []
    },
    {
      "cell_type": "markdown",
      "metadata": {
        "id": "zB1DDyVps5Br"
      },
      "source": [
        "Now compare your decompositions to the library function (which actually wraps the corresponding LAPACK functions)"
      ]
    },
    {
      "cell_type": "code",
      "source": [
        "from scipy.linalg import qr\n",
        "qq, rr = qr(a)\n",
        "\n",
        "assert_allclose(np.dot(qq, rr), a)"
      ],
      "metadata": {
        "id": "K7qcKnwH_fbU"
      },
      "execution_count": null,
      "outputs": []
    },
    {
      "cell_type": "markdown",
      "metadata": {
        "id": "IFOrXiW5tGjL"
      },
      "source": [
        "Check if your q and r agree with qq and rr. Explain."
      ]
    },
    {
      "cell_type": "code",
      "source": [
        "from scipy.linalg import qr\n",
        "a = np.array([[4,3,1], [5,7,0], [9,9,3], [8,2,4], [9,3,1]])\n",
        "q, r = qr_decomp(a)\n",
        "qq, rr = qr(a)\n",
        "print(q)\n",
        "print(qq)\n",
        "print(r)\n",
        "print(rr)\n",
        "print(a)\n",
        "print(q@r)\n",
        "print(qq@rr)"
      ],
      "metadata": {
        "id": "4i6VD9uT_pjW"
      },
      "execution_count": null,
      "outputs": []
    },
    {
      "cell_type": "markdown",
      "metadata": {
        "id": "mv5qlwoHMwvU"
      },
      "source": [
        "Enter your explanation here (10% of the total grade, peer-graded)"
      ]
    },
    {
      "cell_type": "markdown",
      "metadata": {
        "id": "zwqwAkrotneq"
      },
      "source": [
        "# Part III. Avoid forming Householder matrices explicitly."
      ]
    },
    {
      "cell_type": "markdown",
      "metadata": {
        "id": "LfaWxcavtofS"
      },
      "source": [
        "Note the special structure of the Householder matrices: A reflector $\\mathbf{H}$ is completely specified by a reflection vector $\\mathbf{u}$. Also note that the computational cost of applying a reflector to a matrix strongly depends on the order of operations:\n",
        "\n",
        "$$\n",
        "\\left( \\mathbf{u} \\mathbf{u}^T \\right) \\mathbf{A}  \\qquad \\textrm{is } O(m^2 n)\\;,\n",
        "$$\n",
        "while\n",
        "$$\n",
        "\\mathbf{u} \\left( \\mathbf{u}^T \\mathbf{A} \\right) \\qquad \\textrm{is } O(mn)\n",
        "$$\n",
        "\n",
        "Thus, it seems to make sense to *avoid* forming the $\\mathbf{H}$ matrices. Instead, one stores the reflection vectors, $\\mathbf{u}$, themselves, and provides a way of multiplying an arbitrary matrix by $\\mathbf{Q}^T$, e.g., as a standalone function (or a class).\n",
        "\n",
        "\n",
        "\n"
      ]
    },
    {
      "cell_type": "markdown",
      "metadata": {
        "id": "xdrCItiYt027"
      },
      "source": [
        "Write a function which constructs the `QR` decomposition of a matrix *without ever forming the* $\\mathbf{H}$ matrices, and returns the $\\mathbf{R}$ matrix and reflection vectors.\n",
        "\n",
        "Write a second function, which uses reflection vectors to multiply a matrix with $\\mathbf{Q}^T$. Make sure to include enough comments for a marker to follow your implementation, and add tests.\n",
        "\n",
        "(Peer-graded, 40% of the total grade)"
      ]
    },
    {
      "cell_type": "markdown",
      "metadata": {
        "id": "02SQz3w1MAdF"
      },
      "source": [
        "$$\n",
        "\\mathbf{R} = \\mathbf{H}_{n-1} \\cdots \\mathbf{H}_2 \\mathbf{H}_1 \\mathbf{A}\n",
        "$$\n",
        "and\n",
        "$$\n",
        "\\mathbf{H}_i = \\mathbf{I} - 2 \\mathbf{u}_i \\mathbf{u}_i^T\n",
        "$$\n",
        "so if\n",
        "$$\n",
        "\\mathbf{R}_0 =  \\mathbf{A}\n",
        "$$\n",
        "then\n",
        "$$\n",
        "\\mathbf{R}_1 = \\mathbf{H}_1 \\mathbf{R}_0= \\ (\\mathbf{I} - 2 \\mathbf{u}_1 \\mathbf{u}_1^T) \\mathbf{R}_0 =  \\mathbf{R}_0 -  2 \\mathbf{u}_1 ( \\mathbf{u}_1^T  \\mathbf{R}_0)\n",
        "$$\n",
        "and\n",
        "$$\n",
        "\\mathbf{R}_2 = \\mathbf{H}_2 \\mathbf{R}_1 = \\ (\\mathbf{I} - 2 \\mathbf{u}_2 \\mathbf{u}_2^T) \\mathbf{R}_1 =  \\mathbf{R}_1 -  2 \\mathbf{u}_2 ( \\mathbf{u}_2^T  \\mathbf{R}_1)\n",
        "$$\n",
        "so on until\n",
        "$$\n",
        "\\mathbf{R} = \\mathbf{H}_n \\mathbf{R}_{n-1} =  (\\mathbf{I} - 2 \\mathbf{u}_{n-1} \\mathbf{u}_{n-1}^T) \\mathbf{R}_{n-1} = \\mathbf{R}_{n-1} -  2 \\mathbf{u}_{n-1} ( \\mathbf{u}_{n-1}^T  \\mathbf{R}_{n-1})\n",
        "$$"
      ]
    },
    {
      "cell_type": "code",
      "metadata": {
        "id": "agH0iQYjt145"
      },
      "source": [
        "import numpy as np\n",
        "\n",
        "def r_decomp(a):\n",
        "    m, n = a.shape\n",
        "    R = a.copy()\n",
        "    vecs = np.zeros((m, n))\n",
        "\n",
        "    for j in range(n):\n",
        "        x = R[j:, j]\n",
        "        norm_x = np.linalg.norm(x)\n",
        "        sign_x_1 = np.sign(x[0])\n",
        "\n",
        "        vec = np.copy(x)\n",
        "        vec[0] += sign_x_1 * norm_x\n",
        "        vec /= np.linalg.norm(vec)\n",
        "\n",
        "        vecs[j:, j] = vec\n",
        "\n",
        "        R[j:, j:] -= 2 * np.outer(vec, np.dot(vec, R[j:, j:]))\n",
        "\n",
        "    return R, vecs\n"
      ],
      "execution_count": null,
      "outputs": []
    },
    {
      "cell_type": "markdown",
      "metadata": {
        "id": "pfIyTAAyL3xd"
      },
      "source": [
        "$$\n",
        "\\mathbf{Q} =  \\mathbf{H}_1 \\mathbf{H}_2  \\cdots \\mathbf{H}_{n-1}\n",
        "$$\n",
        "and\n",
        "$$\n",
        "\\mathbf{H}_i = \\mathbf{I} - 2 \\mathbf{u}_i \\mathbf{u}_i^T\n",
        "$$\n",
        "so\n",
        "$$\n",
        "\\mathbf{Q} =  (\\mathbf{I} - 2 \\mathbf{u}_1 \\mathbf{u}_1^T )( \\mathbf{I} - 2 \\mathbf{u}_2 \\mathbf{u}_2^T)  \\cdots (\\mathbf{I} - 2 \\mathbf{u}_{n-1} \\mathbf{u}_{n-1}^T)\n",
        "$$"
      ]
    },
    {
      "cell_type": "code",
      "metadata": {
        "id": "n_ER2kVdLprT"
      },
      "source": [
        "import numpy as np\n",
        "\n",
        "def q_decomp(vecs):\n",
        "    m, n = vecs.shape\n",
        "    Q = np.eye(m)\n",
        "\n",
        "    for j in range(n):\n",
        "        vec = vecs[:, j]\n",
        "        Q -= 2*np.outer(vec, np.dot(vec, Q))\n",
        "\n",
        "    QT = np.linalg.inv(Q)\n",
        "\n",
        "    return Q, QT\n"
      ],
      "execution_count": null,
      "outputs": []
    },
    {
      "cell_type": "code",
      "source": [
        "rndm = np.random.RandomState(1234)\n",
        "a = rndm.uniform(size=(5, 3))\n",
        "r, vecs = r_decomp(a)\n",
        "q,qt = q_decomp(vecs)\n",
        "\n",
        "# test that Q is indeed orthogonal\n",
        "assert_allclose(np.dot(q, q.T), np.eye(5), atol=1e-10)\n",
        "\n",
        "# test the decomposition itself\n",
        "assert_allclose(np.dot(q, r), a)"
      ],
      "metadata": {
        "id": "djxYPJqPARMJ"
      },
      "execution_count": null,
      "outputs": []
    },
    {
      "cell_type": "code",
      "metadata": {
        "id": "-eaGWWkHX-dP"
      },
      "source": [
        "from scipy.linalg import qr\n",
        "qq, rr = qr(a)\n",
        "\n",
        "assert_allclose(np.dot(qq, rr), a)"
      ],
      "execution_count": null,
      "outputs": []
    },
    {
      "cell_type": "code",
      "metadata": {
        "id": "6JGctCeR_LLn"
      },
      "source": [
        "a = np.array([[4,3,1], [5,7,0], [9,9,3], [8,2,4], [9,3,1]])\n",
        "R, vecs = r_decomp(a)\n",
        "print(\"R\\n \",R)\n",
        "Q,QT = q_decomp(vecs)\n",
        "print(\"Q\\n\",Q)\n",
        "print(\"QT\\n\",QT)\n",
        "print(\"QT@Q\\n\",QT@Q)\n",
        "print(\"a\\n\",a)\n",
        "print(\"Q@R\\n\",Q@R)"
      ],
      "execution_count": null,
      "outputs": []
    }
  ]
}